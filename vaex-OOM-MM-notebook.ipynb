{
 "cells": [
  {
   "cell_type": "code",
   "execution_count": 1,
   "metadata": {},
   "outputs": [
    {
     "name": "stdout",
     "output_type": "stream",
     "text": [
      "Requirement already satisfied: vaex-core in /home/ec2-user/anaconda3/envs/python3/lib/python3.6/site-packages (2.0.3)\n",
      "Requirement already satisfied: vaex-jupyter in /home/ec2-user/anaconda3/envs/python3/lib/python3.6/site-packages (0.5.2)\n",
      "Requirement already satisfied: vaex-viz in /home/ec2-user/anaconda3/envs/python3/lib/python3.6/site-packages (0.4.0)\n",
      "Requirement already satisfied: vaex-hdf5 in /home/ec2-user/anaconda3/envs/python3/lib/python3.6/site-packages (0.6.0)\n",
      ".....\n",
      "You should consider upgrading via the '/home/ec2-user/anaconda3/envs/python3/bin/python -m pip install --upgrade pip' command.\u001b[0m\n"
     ]
    }
   ],
   "source": [
    "!pip install vaex-core vaex-jupyter vaex-viz vaex-hdf5 vaex-astro vaex-distributed"
   ]
  },
   "source": [
    "!conda list\n"
   ]
  },
  {
   "cell_type": "code",
   "execution_count": 2,
   "metadata": {},
   "outputs": [],
   "source": [
    "import vaex\n"
   ]
  },
  {
   "cell_type": "code",
   "execution_count": 3,
   "metadata": {},
   "outputs": [
    {
     "name": "stdout",
     "output_type": "stream",
     "text": [
      "CPU times: user 500 ms, sys: 48.5 ms, total: 548 ms\n",
      "Wall time: 548 ms\n"
     ]
    }
   ],
   "source": [
    "%time vaexdffeb = vaex.open('taxifeb.hdf5')"
   ]
  },
  {
   "cell_type": "code",
   "execution_count": 4,
   "metadata": {},
   "outputs": [
    {
     "data": {
      "text/html": [
       "<table>\n",
       "<thead>\n",
       "<tr><th>#                                     </th><th>hvfhs_license_num  </th><th>dispatching_base_num  </th><th>pickup_datetime       </th><th>dropoff_datetime      </th><th>PULocationID  </th><th>DOLocationID  </th><th>SR_Flag  </th><th>index   </th></tr>\n",
       "</thead>\n",
       "<tbody>\n",
       "<tr><td><i style='opacity: 0.6'>0</i>         </td><td>b&#x27;HV0003&#x27;          </td><td>b&#x27;B02867&#x27;             </td><td>b&#x27;2019-02-01 00:05:18&#x27;</td><td>b&#x27;2019-02-01 00:14:57&#x27;</td><td>245           </td><td>251           </td><td>nan      </td><td>0       </td></tr>\n",
       "<tr><td><i style='opacity: 0.6'>1</i>         </td><td>b&#x27;HV0003&#x27;          </td><td>b&#x27;B02879&#x27;             </td><td>b&#x27;2019-02-01 00:41:29&#x27;</td><td>b&#x27;2019-02-01 00:49:39&#x27;</td><td>216           </td><td>197           </td><td>nan      </td><td>1       </td></tr>\n",
       "<tr><td><i style='opacity: 0.6'>2</i>         </td><td>b&#x27;HV0005&#x27;          </td><td>b&#x27;B02510&#x27;             </td><td>b&#x27;2019-02-01 00:51:34&#x27;</td><td>b&#x27;2019-02-01 01:28:29&#x27;</td><td>261           </td><td>234           </td><td>nan      </td><td>2       </td></tr>\n",
       "<tr><td><i style='opacity: 0.6'>3</i>         </td><td>b&#x27;HV0005&#x27;          </td><td>b&#x27;B02510&#x27;             </td><td>b&#x27;2019-02-01 00:03:51&#x27;</td><td>b&#x27;2019-02-01 00:07:16&#x27;</td><td>87            </td><td>87            </td><td>nan      </td><td>3       </td></tr>\n",
       "<tr><td><i style='opacity: 0.6'>4</i>         </td><td>b&#x27;HV0005&#x27;          </td><td>b&#x27;B02510&#x27;             </td><td>b&#x27;2019-02-01 00:09:44&#x27;</td><td>b&#x27;2019-02-01 00:39:56&#x27;</td><td>87            </td><td>198           </td><td>nan      </td><td>4       </td></tr>\n",
       "<tr><td>...                                   </td><td>...                </td><td>...                   </td><td>...                   </td><td>...                   </td><td>...           </td><td>...           </td><td>...      </td><td>...     </td></tr>\n",
       "<tr><td><i style='opacity: 0.6'>20,159,097</i></td><td>b&#x27;HV0005&#x27;          </td><td>b&#x27;B02510&#x27;             </td><td>b&#x27;2019-02-28 23:23:40&#x27;</td><td>b&#x27;2019-03-01 00:01:32&#x27;</td><td>181           </td><td>239           </td><td>nan      </td><td>20159097</td></tr>\n",
       "<tr><td><i style='opacity: 0.6'>20,159,098</i></td><td>b&#x27;HV0003&#x27;          </td><td>b&#x27;B02395&#x27;             </td><td>b&#x27;2019-02-28 23:10:43&#x27;</td><td>b&#x27;2019-03-01 00:01:08&#x27;</td><td>244           </td><td>225           </td><td>1.0      </td><td>20159098</td></tr>\n",
       "<tr><td><i style='opacity: 0.6'>20,159,099</i></td><td>b&#x27;HV0003&#x27;          </td><td>b&#x27;B02395&#x27;             </td><td>b&#x27;2019-02-28 23:13:47&#x27;</td><td>b&#x27;2019-02-28 23:31:21&#x27;</td><td>244           </td><td>7             </td><td>1.0      </td><td>20159099</td></tr>\n",
       "<tr><td><i style='opacity: 0.6'>20,159,100</i></td><td>b&#x27;HV0003&#x27;          </td><td>b&#x27;B02395&#x27;             </td><td>b&#x27;2019-02-28 23:40:31&#x27;</td><td>b&#x27;2019-03-01 00:15:56&#x27;</td><td>260           </td><td>61            </td><td>1.0      </td><td>20159100</td></tr>\n",
       "<tr><td><i style='opacity: 0.6'>20,159,101</i></td><td>b&#x27;HV0003&#x27;          </td><td>b&#x27;B02395&#x27;             </td><td>b&#x27;2019-02-28 23:48:03&#x27;</td><td>b&#x27;2019-03-01 00:12:28&#x27;</td><td>226           </td><td>61            </td><td>1.0      </td><td>20159101</td></tr>\n",
       "</tbody>\n",
       "</table>"
      ],
      "text/plain": [
       "#           hvfhs_license_num    dispatching_base_num    pickup_datetime         dropoff_datetime        PULocationID    DOLocationID    SR_Flag    index\n",
       "0           b'HV0003'            b'B02867'               b'2019-02-01 00:05:18'  b'2019-02-01 00:14:57'  245             251             nan        0\n",
       "1           b'HV0003'            b'B02879'               b'2019-02-01 00:41:29'  b'2019-02-01 00:49:39'  216             197             nan        1\n",
       "2           b'HV0005'            b'B02510'               b'2019-02-01 00:51:34'  b'2019-02-01 01:28:29'  261             234             nan        2\n",
       "3           b'HV0005'            b'B02510'               b'2019-02-01 00:03:51'  b'2019-02-01 00:07:16'  87              87              nan        3\n",
       "4           b'HV0005'            b'B02510'               b'2019-02-01 00:09:44'  b'2019-02-01 00:39:56'  87              198             nan        4\n",
       "...         ...                  ...                     ...                     ...                     ...             ...             ...        ...\n",
       "20,159,097  b'HV0005'            b'B02510'               b'2019-02-28 23:23:40'  b'2019-03-01 00:01:32'  181             239             nan        20159097\n",
       "20,159,098  b'HV0003'            b'B02395'               b'2019-02-28 23:10:43'  b'2019-03-01 00:01:08'  244             225             1.0        20159098\n",
       "20,159,099  b'HV0003'            b'B02395'               b'2019-02-28 23:13:47'  b'2019-02-28 23:31:21'  244             7               1.0        20159099\n",
       "20,159,100  b'HV0003'            b'B02395'               b'2019-02-28 23:40:31'  b'2019-03-01 00:15:56'  260             61              1.0        20159100\n",
       "20,159,101  b'HV0003'            b'B02395'               b'2019-02-28 23:48:03'  b'2019-03-01 00:12:28'  226             61              1.0        20159101"
      ]
     },
     "execution_count": 5,
     "metadata": {},
     "output_type": "execute_result"
    }
   ],
   "source": [
    "vaexdffeb"
   ]
  },
  {
   "cell_type": "code",
   "execution_count": 6,
   "metadata": {},
   "outputs": [
    {
     "name": "stdout",
     "output_type": "stream",
     "text": [
      "             total       used       free     shared    buffers     cached\r\n",
      "Mem:          3.9G       3.7G       184M        64K       1.5G       1.1G\r\n",
      "-/+ buffers/cache:       1.0G       2.8G\r\n",
      "Swap:           0B         0B         0B\r\n",
      "Total:        3.9G       3.7G       184M\r\n"
     ]
    }
   ],
   "source": [
    "!free -th"
   ]
  },
  {
   "cell_type": "code",
   "execution_count": 7,
   "metadata": {},
   "outputs": [
    {
     "name": "stdout",
     "output_type": "stream",
     "text": [
      "CPU times: user 8.17 ms, sys: 0 ns, total: 8.17 ms\n",
      "Wall time: 7.6 ms\n"
     ]
    }
   ],
   "source": [
    "%time vaexdfapr =  vaex.open('taxiapril.hdf5')\n"
   ]
  },
  {
   "cell_type": "code",
   "execution_count": 8,
   "metadata": {},
   "outputs": [
    {
     "data": {
      "text/html": [
       "<table>\n",
       "<thead>\n",
       "<tr><th>#                                     </th><th>hvfhs_license_num  </th><th>dispatching_base_num  </th><th>pickup_datetime       </th><th>dropoff_datetime      </th><th>PULocationID  </th><th>DOLocationID  </th><th>SR_Flag  </th><th>index   </th></tr>\n",
       "</thead>\n",
       "<tbody>\n",
       "<tr><td><i style='opacity: 0.6'>0</i>         </td><td>b&#x27;HV0005&#x27;          </td><td>b&#x27;B02510&#x27;             </td><td>b&#x27;2019-04-01 00:11:25&#x27;</td><td>b&#x27;2019-04-01 00:21:56&#x27;</td><td>52            </td><td>97            </td><td>nan      </td><td>0       </td></tr>\n",
       "<tr><td><i style='opacity: 0.6'>1</i>         </td><td>b&#x27;HV0005&#x27;          </td><td>b&#x27;B02510&#x27;             </td><td>b&#x27;2019-04-01 00:28:57&#x27;</td><td>b&#x27;2019-04-01 00:52:24&#x27;</td><td>97            </td><td>239           </td><td>nan      </td><td>1       </td></tr>\n",
       "<tr><td><i style='opacity: 0.6'>2</i>         </td><td>b&#x27;HV0005&#x27;          </td><td>b&#x27;B02510&#x27;             </td><td>b&#x27;2019-04-01 00:59:25&#x27;</td><td>b&#x27;2019-04-01 01:29:54&#x27;</td><td>238           </td><td>61            </td><td>nan      </td><td>2       </td></tr>\n",
       "<tr><td><i style='opacity: 0.6'>3</i>         </td><td>b&#x27;HV0005&#x27;          </td><td>b&#x27;B02510&#x27;             </td><td>b&#x27;2019-04-01 00:53:14&#x27;</td><td>b&#x27;2019-04-01 00:57:02&#x27;</td><td>212           </td><td>213           </td><td>1.0      </td><td>3       </td></tr>\n",
       "<tr><td><i style='opacity: 0.6'>4</i>         </td><td>b&#x27;HV0003&#x27;          </td><td>b&#x27;B02764&#x27;             </td><td>b&#x27;2019-04-01 00:11:42&#x27;</td><td>b&#x27;2019-04-01 00:20:06&#x27;</td><td>165           </td><td>210           </td><td>1.0      </td><td>4       </td></tr>\n",
       "<tr><td>...                                   </td><td>...                </td><td>...                   </td><td>...                   </td><td>...                   </td><td>...           </td><td>...           </td><td>...      </td><td>...     </td></tr>\n",
       "<tr><td><i style='opacity: 0.6'>21,734,762</i></td><td>b&#x27;HV0003&#x27;          </td><td>b&#x27;B02864&#x27;             </td><td>b&#x27;2019-04-30 23:07:00&#x27;</td><td>b&#x27;2019-04-30 23:32:12&#x27;</td><td>136           </td><td>167           </td><td>nan      </td><td>21734762</td></tr>\n",
       "<tr><td><i style='opacity: 0.6'>21,734,763</i></td><td>b&#x27;HV0003&#x27;          </td><td>b&#x27;B02864&#x27;             </td><td>b&#x27;2019-04-30 23:35:53&#x27;</td><td>b&#x27;2019-04-30 23:48:04&#x27;</td><td>60            </td><td>94            </td><td>nan      </td><td>21734763</td></tr>\n",
       "<tr><td><i style='opacity: 0.6'>21,734,764</i></td><td>b&#x27;HV0003&#x27;          </td><td>b&#x27;B02864&#x27;             </td><td>b&#x27;2019-04-30 23:56:08&#x27;</td><td>b&#x27;2019-05-01 00:03:00&#x27;</td><td>136           </td><td>235           </td><td>nan      </td><td>21734764</td></tr>\n",
       "<tr><td><i style='opacity: 0.6'>21,734,765</i></td><td>b&#x27;HV0005&#x27;          </td><td>b&#x27;B02510&#x27;             </td><td>b&#x27;2019-04-30 23:05:56&#x27;</td><td>b&#x27;2019-04-30 23:31:42&#x27;</td><td>50            </td><td>147           </td><td>nan      </td><td>21734765</td></tr>\n",
       "<tr><td><i style='opacity: 0.6'>21,734,766</i></td><td>b&#x27;HV0003&#x27;          </td><td>b&#x27;B02764&#x27;             </td><td>b&#x27;2019-04-30 23:57:54&#x27;</td><td>b&#x27;2019-05-01 00:42:37&#x27;</td><td>113           </td><td>265           </td><td>nan      </td><td>21734766</td></tr>\n",
       "</tbody>\n",
       "</table>"
      ],
      "text/plain": [
       "#           hvfhs_license_num    dispatching_base_num    pickup_datetime         dropoff_datetime        PULocationID    DOLocationID    SR_Flag    index\n",
       "0           b'HV0005'            b'B02510'               b'2019-04-01 00:11:25'  b'2019-04-01 00:21:56'  52              97              nan        0\n",
       "1           b'HV0005'            b'B02510'               b'2019-04-01 00:28:57'  b'2019-04-01 00:52:24'  97              239             nan        1\n",
       "2           b'HV0005'            b'B02510'               b'2019-04-01 00:59:25'  b'2019-04-01 01:29:54'  238             61              nan        2\n",
       "3           b'HV0005'            b'B02510'               b'2019-04-01 00:53:14'  b'2019-04-01 00:57:02'  212             213             1.0        3\n",
       "4           b'HV0003'            b'B02764'               b'2019-04-01 00:11:42'  b'2019-04-01 00:20:06'  165             210             1.0        4\n",
       "...         ...                  ...                     ...                     ...                     ...             ...             ...        ...\n",
       "21,734,762  b'HV0003'            b'B02864'               b'2019-04-30 23:07:00'  b'2019-04-30 23:32:12'  136             167             nan        21734762\n",
       "21,734,763  b'HV0003'            b'B02864'               b'2019-04-30 23:35:53'  b'2019-04-30 23:48:04'  60              94              nan        21734763\n",
       "21,734,764  b'HV0003'            b'B02864'               b'2019-04-30 23:56:08'  b'2019-05-01 00:03:00'  136             235             nan        21734764\n",
       "21,734,765  b'HV0005'            b'B02510'               b'2019-04-30 23:05:56'  b'2019-04-30 23:31:42'  50              147             nan        21734765\n",
       "21,734,766  b'HV0003'            b'B02764'               b'2019-04-30 23:57:54'  b'2019-05-01 00:42:37'  113             265             nan        21734766"
      ]
     },
     "execution_count": 9,
     "metadata": {},
     "output_type": "execute_result"
    }
   ],
   "source": [
    "vaexdfapr"
   ]
  },
  {
   "cell_type": "code",
   "execution_count": 10,
   "metadata": {},
   "outputs": [
    {
     "name": "stdout",
     "output_type": "stream",
     "text": [
      "             total       used       free     shared    buffers     cached\r\n",
      "Mem:          3.9G       3.7G       184M        64K       1.5G       1.1G\r\n",
      "-/+ buffers/cache:       1.0G       2.8G\r\n",
      "Swap:           0B         0B         0B\r\n",
      "Total:        3.9G       3.7G       184M\r\n"
     ]
    }
   ],
   "source": [
    "!free -th"
   ]
  },
  {
   "cell_type": "code",
   "execution_count": 11,
   "metadata": {},
   "outputs": [
    {
     "name": "stdout",
     "output_type": "stream",
     "text": [
      "CPU times: user 1.96 ms, sys: 0 ns, total: 1.96 ms\n",
      "Wall time: 1.98 ms\n"
     ]
    }
   ],
   "source": [
    "%time df1 = vaexdffeb.fillna(value=0, column_names=['SR_Flag'])"
   ]
  },
  {
   "cell_type": "code",
   "execution_count": 12,
   "metadata": {},
   "outputs": [
    {
     "data": {
      "text/html": [
       "<table>\n",
       "<thead>\n",
       "<tr><th>#                                     </th><th>hvfhs_license_num  </th><th>dispatching_base_num  </th><th>pickup_datetime       </th><th>dropoff_datetime      </th><th>PULocationID  </th><th>DOLocationID  </th><th>SR_Flag  </th><th>index   </th></tr>\n",
       "</thead>\n",
       "<tbody>\n",
       "<tr><td><i style='opacity: 0.6'>0</i>         </td><td>b&#x27;HV0003&#x27;          </td><td>b&#x27;B02867&#x27;             </td><td>b&#x27;2019-02-01 00:05:18&#x27;</td><td>b&#x27;2019-02-01 00:14:57&#x27;</td><td>245           </td><td>251           </td><td>0.0      </td><td>0       </td></tr>\n",
       "<tr><td><i style='opacity: 0.6'>1</i>         </td><td>b&#x27;HV0003&#x27;          </td><td>b&#x27;B02879&#x27;             </td><td>b&#x27;2019-02-01 00:41:29&#x27;</td><td>b&#x27;2019-02-01 00:49:39&#x27;</td><td>216           </td><td>197           </td><td>0.0      </td><td>1       </td></tr>\n",
       "<tr><td><i style='opacity: 0.6'>2</i>         </td><td>b&#x27;HV0005&#x27;          </td><td>b&#x27;B02510&#x27;             </td><td>b&#x27;2019-02-01 00:51:34&#x27;</td><td>b&#x27;2019-02-01 01:28:29&#x27;</td><td>261           </td><td>234           </td><td>0.0      </td><td>2       </td></tr>\n",
       "<tr><td><i style='opacity: 0.6'>3</i>         </td><td>b&#x27;HV0005&#x27;          </td><td>b&#x27;B02510&#x27;             </td><td>b&#x27;2019-02-01 00:03:51&#x27;</td><td>b&#x27;2019-02-01 00:07:16&#x27;</td><td>87            </td><td>87            </td><td>0.0      </td><td>3       </td></tr>\n",
       "<tr><td><i style='opacity: 0.6'>4</i>         </td><td>b&#x27;HV0005&#x27;          </td><td>b&#x27;B02510&#x27;             </td><td>b&#x27;2019-02-01 00:09:44&#x27;</td><td>b&#x27;2019-02-01 00:39:56&#x27;</td><td>87            </td><td>198           </td><td>0.0      </td><td>4       </td></tr>\n",
       "<tr><td>...                                   </td><td>...                </td><td>...                   </td><td>...                   </td><td>...                   </td><td>...           </td><td>...           </td><td>...      </td><td>...     </td></tr>\n",
       "<tr><td><i style='opacity: 0.6'>20,159,097</i></td><td>b&#x27;HV0005&#x27;          </td><td>b&#x27;B02510&#x27;             </td><td>b&#x27;2019-02-28 23:23:40&#x27;</td><td>b&#x27;2019-03-01 00:01:32&#x27;</td><td>181           </td><td>239           </td><td>0.0      </td><td>20159097</td></tr>\n",
       "<tr><td><i style='opacity: 0.6'>20,159,098</i></td><td>b&#x27;HV0003&#x27;          </td><td>b&#x27;B02395&#x27;             </td><td>b&#x27;2019-02-28 23:10:43&#x27;</td><td>b&#x27;2019-03-01 00:01:08&#x27;</td><td>244           </td><td>225           </td><td>1.0      </td><td>20159098</td></tr>\n",
       "<tr><td><i style='opacity: 0.6'>20,159,099</i></td><td>b&#x27;HV0003&#x27;          </td><td>b&#x27;B02395&#x27;             </td><td>b&#x27;2019-02-28 23:13:47&#x27;</td><td>b&#x27;2019-02-28 23:31:21&#x27;</td><td>244           </td><td>7             </td><td>1.0      </td><td>20159099</td></tr>\n",
       "<tr><td><i style='opacity: 0.6'>20,159,100</i></td><td>b&#x27;HV0003&#x27;          </td><td>b&#x27;B02395&#x27;             </td><td>b&#x27;2019-02-28 23:40:31&#x27;</td><td>b&#x27;2019-03-01 00:15:56&#x27;</td><td>260           </td><td>61            </td><td>1.0      </td><td>20159100</td></tr>\n",
       "<tr><td><i style='opacity: 0.6'>20,159,101</i></td><td>b&#x27;HV0003&#x27;          </td><td>b&#x27;B02395&#x27;             </td><td>b&#x27;2019-02-28 23:48:03&#x27;</td><td>b&#x27;2019-03-01 00:12:28&#x27;</td><td>226           </td><td>61            </td><td>1.0      </td><td>20159101</td></tr>\n",
       "</tbody>\n",
       "</table>"
      ],
      "text/plain": [
       "#           hvfhs_license_num    dispatching_base_num    pickup_datetime         dropoff_datetime        PULocationID    DOLocationID    SR_Flag    index\n",
       "0           b'HV0003'            b'B02867'               b'2019-02-01 00:05:18'  b'2019-02-01 00:14:57'  245             251             0.0        0\n",
       "1           b'HV0003'            b'B02879'               b'2019-02-01 00:41:29'  b'2019-02-01 00:49:39'  216             197             0.0        1\n",
       "2           b'HV0005'            b'B02510'               b'2019-02-01 00:51:34'  b'2019-02-01 01:28:29'  261             234             0.0        2\n",
       "3           b'HV0005'            b'B02510'               b'2019-02-01 00:03:51'  b'2019-02-01 00:07:16'  87              87              0.0        3\n",
       "4           b'HV0005'            b'B02510'               b'2019-02-01 00:09:44'  b'2019-02-01 00:39:56'  87              198             0.0        4\n",
       "...         ...                  ...                     ...                     ...                     ...             ...             ...        ...\n",
       "20,159,097  b'HV0005'            b'B02510'               b'2019-02-28 23:23:40'  b'2019-03-01 00:01:32'  181             239             0.0        20159097\n",
       "20,159,098  b'HV0003'            b'B02395'               b'2019-02-28 23:10:43'  b'2019-03-01 00:01:08'  244             225             1.0        20159098\n",
       "20,159,099  b'HV0003'            b'B02395'               b'2019-02-28 23:13:47'  b'2019-02-28 23:31:21'  244             7               1.0        20159099\n",
       "20,159,100  b'HV0003'            b'B02395'               b'2019-02-28 23:40:31'  b'2019-03-01 00:15:56'  260             61              1.0        20159100\n",
       "20,159,101  b'HV0003'            b'B02395'               b'2019-02-28 23:48:03'  b'2019-03-01 00:12:28'  226             61              1.0        20159101"
      ]
     },
     "execution_count": 12,
     "metadata": {},
     "output_type": "execute_result"
    }
   ],
   "source": [
    "df1"
   ]
  },
  {
   "cell_type": "code",
   "execution_count": 13,
   "metadata": {},
   "outputs": [
    {
     "name": "stdout",
     "output_type": "stream",
     "text": [
      "             total       used       free     shared    buffers     cached\r\n",
      "Mem:          3.9G       3.7G       183M        64K       1.5G       1.1G\r\n",
      "-/+ buffers/cache:       1.0G       2.8G\r\n",
      "Swap:           0B         0B         0B\r\n",
      "Total:        3.9G       3.7G       183M\r\n"
     ]
    }
   ],
   "source": [
    "!free -th"
   ]
  },
  {
   "cell_type": "code",
   "execution_count": 15,
   "metadata": {},
   "outputs": [
    {
     "name": "stdout",
     "output_type": "stream",
     "text": [
      "Requirement already satisfied: s3fs in /home/ec2-user/anaconda3/envs/python3/lib/python3.6/site-packages (0.2.2)\n",
      "Requirement already satisfied: boto3>=1.9.91 in /home/ec2-user/anaconda3/envs/python3/lib/python3.6/site-packages (from s3fs) (1.14.27)\n",
      "Requirement already satisfied: six>=1.12.0 in /home/ec2-user/anaconda3/envs/python3/lib/python3.6/site-packages (from s3fs) (1.14.0)\n",
      "Requirement already satisfied: botocore>=1.12.91 in /home/ec2-user/anaconda3/envs/python3/lib/python3.6/site-packages (from s3fs) (1.17.27)\n",
      "Requirement already satisfied: s3transfer<0.4.0,>=0.3.0 in /home/ec2-user/anaconda3/envs/python3/lib/python3.6/site-packages (from boto3>=1.9.91->s3fs) (0.3.3)\n",
      "Requirement already satisfied: jmespath<1.0.0,>=0.7.1 in /home/ec2-user/anaconda3/envs/python3/lib/python3.6/site-packages (from boto3>=1.9.91->s3fs) (0.9.4)\n",
      "Requirement already satisfied: python-dateutil<3.0.0,>=2.1 in /home/ec2-user/anaconda3/envs/python3/lib/python3.6/site-packages (from botocore>=1.12.91->s3fs) (2.8.1)\n",
      "Requirement already satisfied: docutils<0.16,>=0.10 in /home/ec2-user/anaconda3/envs/python3/lib/python3.6/site-packages (from botocore>=1.12.91->s3fs) (0.15.2)\n",
      "Requirement already satisfied: urllib3<1.26,>=1.20; python_version != \"3.4\" in /home/ec2-user/anaconda3/envs/python3/lib/python3.6/site-packages (from botocore>=1.12.91->s3fs) (1.25.8)\n",
      "\u001b[33mWARNING: You are using pip version 20.0.2; however, version 20.2 is available.\n",
      "You should consider upgrading via the '/home/ec2-user/anaconda3/envs/python3/bin/python -m pip install --upgrade pip' command.\u001b[0m\n"
     ]
    }
   ],
   "source": [
    "!pip install s3fs"
   ]
  },
  {
   "cell_type": "markdown",
   "metadata": {},
   "source": [
    "## Reading from S3"
   ]
  },
  {
   "cell_type": "code",
   "execution_count": 104,
   "metadata": {},
   "outputs": [
    {
     "name": "stdout",
     "output_type": "stream",
     "text": [
      "CPU times: user 10.2 ms, sys: 0 ns, total: 10.2 ms\n",
      "Wall time: 9.73 ms\n"
     ]
    }
   ],
   "source": [
    "import s3fs\n",
    "%time vaexfroms3 = vaex.open('s3://xxxxxxxx/s3-joined-sample-dataframe.hdf5')"
   ]
  },
  {
   "cell_type": "markdown",
   "metadata": {},
   "source": [
    "## So you want Data Science?"
   ]
  },
  {
   "cell_type": "code",
   "execution_count": 60,
   "metadata": {},
   "outputs": [
    {
     "data": {
      "text/plain": [
       "array(43469534)"
      ]
     },
     "execution_count": 60,
     "metadata": {},
     "output_type": "execute_result"
    }
   ],
   "source": [
    "dsvaex.count()"
   ]
  },
  {
   "cell_type": "code",
   "execution_count": 61,
   "metadata": {},
   "outputs": [
    {
     "data": {
      "text/html": [
       "<div>\n",
       "<style scoped>\n",
       "    .dataframe tbody tr th:only-of-type {\n",
       "        vertical-align: middle;\n",
       "    }\n",
       "\n",
       "    .dataframe tbody tr th {\n",
       "        vertical-align: top;\n",
       "    }\n",
       "\n",
       "    .dataframe thead th {\n",
       "        text-align: right;\n",
       "    }\n",
       "</style>\n",
       "<table border=\"1\" class=\"dataframe\">\n",
       "  <thead>\n",
       "    <tr style=\"text-align: right;\">\n",
       "      <th></th>\n",
       "      <th>hvfhs_license_num</th>\n",
       "      <th>dispatching_base_num</th>\n",
       "      <th>pickup_datetime</th>\n",
       "      <th>dropoff_datetime</th>\n",
       "      <th>PULocationID</th>\n",
       "      <th>DOLocationID</th>\n",
       "      <th>SR_Flag</th>\n",
       "      <th>index</th>\n",
       "    </tr>\n",
       "  </thead>\n",
       "  <tbody>\n",
       "    <tr>\n",
       "      <th>dtype</th>\n",
       "      <td>str</td>\n",
       "      <td>str</td>\n",
       "      <td>str</td>\n",
       "      <td>str</td>\n",
       "      <td>int64</td>\n",
       "      <td>int64</td>\n",
       "      <td>float64</td>\n",
       "      <td>int64</td>\n",
       "    </tr>\n",
       "    <tr>\n",
       "      <th>count</th>\n",
       "      <td>0</td>\n",
       "      <td>0</td>\n",
       "      <td>0</td>\n",
       "      <td>0</td>\n",
       "      <td>43469534</td>\n",
       "      <td>43469534</td>\n",
       "      <td>43469534</td>\n",
       "      <td>43469534</td>\n",
       "    </tr>\n",
       "    <tr>\n",
       "      <th>NA</th>\n",
       "      <td>43469534</td>\n",
       "      <td>43469534</td>\n",
       "      <td>43469534</td>\n",
       "      <td>43469534</td>\n",
       "      <td>0</td>\n",
       "      <td>0</td>\n",
       "      <td>0</td>\n",
       "      <td>0</td>\n",
       "    </tr>\n",
       "    <tr>\n",
       "      <th>mean</th>\n",
       "      <td>--</td>\n",
       "      <td>--</td>\n",
       "      <td>--</td>\n",
       "      <td>--</td>\n",
       "      <td>138.5166121633602</td>\n",
       "      <td>141.31675973338017</td>\n",
       "      <td>0.19563149676276723</td>\n",
       "      <td>10867383.0</td>\n",
       "    </tr>\n",
       "    <tr>\n",
       "      <th>std</th>\n",
       "      <td>--</td>\n",
       "      <td>--</td>\n",
       "      <td>--</td>\n",
       "      <td>--</td>\n",
       "      <td>75.2416</td>\n",
       "      <td>77.6325</td>\n",
       "      <td>0.396686</td>\n",
       "      <td>6.27429e+06</td>\n",
       "    </tr>\n",
       "    <tr>\n",
       "      <th>min</th>\n",
       "      <td>--</td>\n",
       "      <td>--</td>\n",
       "      <td>--</td>\n",
       "      <td>--</td>\n",
       "      <td>1</td>\n",
       "      <td>1</td>\n",
       "      <td>0</td>\n",
       "      <td>0</td>\n",
       "    </tr>\n",
       "    <tr>\n",
       "      <th>max</th>\n",
       "      <td>--</td>\n",
       "      <td>--</td>\n",
       "      <td>--</td>\n",
       "      <td>--</td>\n",
       "      <td>265</td>\n",
       "      <td>265</td>\n",
       "      <td>1</td>\n",
       "      <td>21734766</td>\n",
       "    </tr>\n",
       "  </tbody>\n",
       "</table>\n",
       "</div>"
      ],
      "text/plain": [
       "      hvfhs_license_num dispatching_base_num pickup_datetime dropoff_datetime  \\\n",
       "dtype               str                  str             str              str   \n",
       "count                 0                    0               0                0   \n",
       "NA             43469534             43469534        43469534         43469534   \n",
       "mean                 --                   --              --               --   \n",
       "std                  --                   --              --               --   \n",
       "min                  --                   --              --               --   \n",
       "max                  --                   --              --               --   \n",
       "\n",
       "            PULocationID        DOLocationID              SR_Flag        index  \n",
       "dtype              int64               int64              float64        int64  \n",
       "count           43469534            43469534             43469534     43469534  \n",
       "NA                     0                   0                    0            0  \n",
       "mean   138.5166121633602  141.31675973338017  0.19563149676276723   10867383.0  \n",
       "std              75.2416             77.6325             0.396686  6.27429e+06  \n",
       "min                    1                   1                    0            0  \n",
       "max                  265                 265                    1     21734766  "
      ]
     },
     "execution_count": 61,
     "metadata": {},
     "output_type": "execute_result"
    }
   ],
   "source": [
    "dsvaex.describe()"
   ]
  },
  {
   "cell_type": "code",
   "execution_count": 36,
   "metadata": {},
   "outputs": [
    {
     "data": {
      "text/html": [
       "<table>\n",
       "<thead>\n",
       "<tr><th>#                            </th><th>hvfhs_license_num  </th><th>dispatching_base_num  </th><th>pickup_datetime       </th><th>dropoff_datetime      </th><th style=\"text-align: right;\">  PULocationID</th><th style=\"text-align: right;\">  DOLocationID</th><th style=\"text-align: right;\">  SR_Flag</th><th style=\"text-align: right;\">  index</th></tr>\n",
       "</thead>\n",
       "<tbody>\n",
       "<tr><td><i style='opacity: 0.6'>0</i></td><td>b&#x27;HV0005&#x27;          </td><td>b&#x27;B02510&#x27;             </td><td>b&#x27;2019-04-01 00:11:25&#x27;</td><td>b&#x27;2019-04-01 00:21:56&#x27;</td><td style=\"text-align: right;\">            52</td><td style=\"text-align: right;\">            97</td><td style=\"text-align: right;\">      nan</td><td style=\"text-align: right;\">      0</td></tr>\n",
       "<tr><td><i style='opacity: 0.6'>1</i></td><td>b&#x27;HV0005&#x27;          </td><td>b&#x27;B02510&#x27;             </td><td>b&#x27;2019-04-01 00:28:57&#x27;</td><td>b&#x27;2019-04-01 00:52:24&#x27;</td><td style=\"text-align: right;\">            97</td><td style=\"text-align: right;\">           239</td><td style=\"text-align: right;\">      nan</td><td style=\"text-align: right;\">      1</td></tr>\n",
       "<tr><td><i style='opacity: 0.6'>2</i></td><td>b&#x27;HV0005&#x27;          </td><td>b&#x27;B02510&#x27;             </td><td>b&#x27;2019-04-01 00:59:25&#x27;</td><td>b&#x27;2019-04-01 01:29:54&#x27;</td><td style=\"text-align: right;\">           238</td><td style=\"text-align: right;\">            61</td><td style=\"text-align: right;\">      nan</td><td style=\"text-align: right;\">      2</td></tr>\n",
       "<tr><td><i style='opacity: 0.6'>3</i></td><td>b&#x27;HV0005&#x27;          </td><td>b&#x27;B02510&#x27;             </td><td>b&#x27;2019-04-01 00:53:14&#x27;</td><td>b&#x27;2019-04-01 00:57:02&#x27;</td><td style=\"text-align: right;\">           212</td><td style=\"text-align: right;\">           213</td><td style=\"text-align: right;\">        1</td><td style=\"text-align: right;\">      3</td></tr>\n",
       "<tr><td><i style='opacity: 0.6'>4</i></td><td>b&#x27;HV0003&#x27;          </td><td>b&#x27;B02764&#x27;             </td><td>b&#x27;2019-04-01 00:11:42&#x27;</td><td>b&#x27;2019-04-01 00:20:06&#x27;</td><td style=\"text-align: right;\">           165</td><td style=\"text-align: right;\">           210</td><td style=\"text-align: right;\">        1</td><td style=\"text-align: right;\">      4</td></tr>\n",
       "<tr><td><i style='opacity: 0.6'>5</i></td><td>b&#x27;HV0003&#x27;          </td><td>b&#x27;B02764&#x27;             </td><td>b&#x27;2019-04-01 00:22:47&#x27;</td><td>b&#x27;2019-04-01 00:48:45&#x27;</td><td style=\"text-align: right;\">           210</td><td style=\"text-align: right;\">           156</td><td style=\"text-align: right;\">        1</td><td style=\"text-align: right;\">      5</td></tr>\n",
       "<tr><td><i style='opacity: 0.6'>6</i></td><td>b&#x27;HV0003&#x27;          </td><td>b&#x27;B02764&#x27;             </td><td>b&#x27;2019-04-01 00:48:25&#x27;</td><td>b&#x27;2019-04-01 00:58:52&#x27;</td><td style=\"text-align: right;\">           156</td><td style=\"text-align: right;\">            23</td><td style=\"text-align: right;\">        1</td><td style=\"text-align: right;\">      6</td></tr>\n",
       "<tr><td><i style='opacity: 0.6'>7</i></td><td>b&#x27;HV0003&#x27;          </td><td>b&#x27;B02764&#x27;             </td><td>b&#x27;2019-04-01 00:01:28&#x27;</td><td>b&#x27;2019-04-01 00:09:29&#x27;</td><td style=\"text-align: right;\">           234</td><td style=\"text-align: right;\">            68</td><td style=\"text-align: right;\">      nan</td><td style=\"text-align: right;\">      7</td></tr>\n",
       "<tr><td><i style='opacity: 0.6'>8</i></td><td>b&#x27;HV0003&#x27;          </td><td>b&#x27;B02875&#x27;             </td><td>b&#x27;2019-04-01 00:04:51&#x27;</td><td>b&#x27;2019-04-01 00:15:10&#x27;</td><td style=\"text-align: right;\">           249</td><td style=\"text-align: right;\">           170</td><td style=\"text-align: right;\">      nan</td><td style=\"text-align: right;\">      8</td></tr>\n",
       "<tr><td><i style='opacity: 0.6'>9</i></td><td>b&#x27;HV0003&#x27;          </td><td>b&#x27;B02875&#x27;             </td><td>b&#x27;2019-04-01 00:36:47&#x27;</td><td>b&#x27;2019-04-01 00:54:16&#x27;</td><td style=\"text-align: right;\">           246</td><td style=\"text-align: right;\">           248</td><td style=\"text-align: right;\">      nan</td><td style=\"text-align: right;\">      9</td></tr>\n",
       "</tbody>\n",
       "</table>"
      ],
      "text/plain": [
       "  #  hvfhs_license_num    dispatching_base_num    pickup_datetime         dropoff_datetime          PULocationID    DOLocationID    SR_Flag    index\n",
       "  0  b'HV0005'            b'B02510'               b'2019-04-01 00:11:25'  b'2019-04-01 00:21:56'              52              97        nan        0\n",
       "  1  b'HV0005'            b'B02510'               b'2019-04-01 00:28:57'  b'2019-04-01 00:52:24'              97             239        nan        1\n",
       "  2  b'HV0005'            b'B02510'               b'2019-04-01 00:59:25'  b'2019-04-01 01:29:54'             238              61        nan        2\n",
       "  3  b'HV0005'            b'B02510'               b'2019-04-01 00:53:14'  b'2019-04-01 00:57:02'             212             213          1        3\n",
       "  4  b'HV0003'            b'B02764'               b'2019-04-01 00:11:42'  b'2019-04-01 00:20:06'             165             210          1        4\n",
       "  5  b'HV0003'            b'B02764'               b'2019-04-01 00:22:47'  b'2019-04-01 00:48:45'             210             156          1        5\n",
       "  6  b'HV0003'            b'B02764'               b'2019-04-01 00:48:25'  b'2019-04-01 00:58:52'             156              23          1        6\n",
       "  7  b'HV0003'            b'B02764'               b'2019-04-01 00:01:28'  b'2019-04-01 00:09:29'             234              68        nan        7\n",
       "  8  b'HV0003'            b'B02875'               b'2019-04-01 00:04:51'  b'2019-04-01 00:15:10'             249             170        nan        8\n",
       "  9  b'HV0003'            b'B02875'               b'2019-04-01 00:36:47'  b'2019-04-01 00:54:16'             246             248        nan        9"
      ]
     },
     "execution_count": 36,
     "metadata": {},
     "output_type": "execute_result"
    }
   ],
   "source": [
    "vaexfroms3.head(10)"
   ]
  },
  {
   "cell_type": "code",
   "execution_count": 105,
   "metadata": {},
   "outputs": [
    {
     "name": "stdout",
     "output_type": "stream",
     "text": [
      "CPU times: user 1.47 ms, sys: 0 ns, total: 1.47 ms\n",
      "Wall time: 1.48 ms\n"
     ]
    }
   ],
   "source": [
    "%time dsvaex = vaexfroms3.fillna(value=0, column_names=['SR_Flag'])"
   ]
  },
  {
   "cell_type": "code",
   "execution_count": 106,
   "metadata": {},
   "outputs": [
    {
     "data": {
      "text/html": [
       "<table>\n",
       "<thead>\n",
       "<tr><th>#                            </th><th>hvfhs_license_num  </th><th>dispatching_base_num  </th><th>pickup_datetime       </th><th>dropoff_datetime      </th><th style=\"text-align: right;\">  PULocationID</th><th style=\"text-align: right;\">  DOLocationID</th><th style=\"text-align: right;\">  SR_Flag</th><th style=\"text-align: right;\">  index</th></tr>\n",
       "</thead>\n",
       "<tbody>\n",
       "<tr><td><i style='opacity: 0.6'>0</i></td><td>b&#x27;HV0005&#x27;          </td><td>b&#x27;B02510&#x27;             </td><td>b&#x27;2019-04-01 00:11:25&#x27;</td><td>b&#x27;2019-04-01 00:21:56&#x27;</td><td style=\"text-align: right;\">            52</td><td style=\"text-align: right;\">            97</td><td style=\"text-align: right;\">        0</td><td style=\"text-align: right;\">      0</td></tr>\n",
       "<tr><td><i style='opacity: 0.6'>1</i></td><td>b&#x27;HV0005&#x27;          </td><td>b&#x27;B02510&#x27;             </td><td>b&#x27;2019-04-01 00:28:57&#x27;</td><td>b&#x27;2019-04-01 00:52:24&#x27;</td><td style=\"text-align: right;\">            97</td><td style=\"text-align: right;\">           239</td><td style=\"text-align: right;\">        0</td><td style=\"text-align: right;\">      1</td></tr>\n",
       "<tr><td><i style='opacity: 0.6'>2</i></td><td>b&#x27;HV0005&#x27;          </td><td>b&#x27;B02510&#x27;             </td><td>b&#x27;2019-04-01 00:59:25&#x27;</td><td>b&#x27;2019-04-01 01:29:54&#x27;</td><td style=\"text-align: right;\">           238</td><td style=\"text-align: right;\">            61</td><td style=\"text-align: right;\">        0</td><td style=\"text-align: right;\">      2</td></tr>\n",
       "<tr><td><i style='opacity: 0.6'>3</i></td><td>b&#x27;HV0005&#x27;          </td><td>b&#x27;B02510&#x27;             </td><td>b&#x27;2019-04-01 00:53:14&#x27;</td><td>b&#x27;2019-04-01 00:57:02&#x27;</td><td style=\"text-align: right;\">           212</td><td style=\"text-align: right;\">           213</td><td style=\"text-align: right;\">        1</td><td style=\"text-align: right;\">      3</td></tr>\n",
       "<tr><td><i style='opacity: 0.6'>4</i></td><td>b&#x27;HV0003&#x27;          </td><td>b&#x27;B02764&#x27;             </td><td>b&#x27;2019-04-01 00:11:42&#x27;</td><td>b&#x27;2019-04-01 00:20:06&#x27;</td><td style=\"text-align: right;\">           165</td><td style=\"text-align: right;\">           210</td><td style=\"text-align: right;\">        1</td><td style=\"text-align: right;\">      4</td></tr>\n",
       "<tr><td><i style='opacity: 0.6'>5</i></td><td>b&#x27;HV0003&#x27;          </td><td>b&#x27;B02764&#x27;             </td><td>b&#x27;2019-04-01 00:22:47&#x27;</td><td>b&#x27;2019-04-01 00:48:45&#x27;</td><td style=\"text-align: right;\">           210</td><td style=\"text-align: right;\">           156</td><td style=\"text-align: right;\">        1</td><td style=\"text-align: right;\">      5</td></tr>\n",
       "<tr><td><i style='opacity: 0.6'>6</i></td><td>b&#x27;HV0003&#x27;          </td><td>b&#x27;B02764&#x27;             </td><td>b&#x27;2019-04-01 00:48:25&#x27;</td><td>b&#x27;2019-04-01 00:58:52&#x27;</td><td style=\"text-align: right;\">           156</td><td style=\"text-align: right;\">            23</td><td style=\"text-align: right;\">        1</td><td style=\"text-align: right;\">      6</td></tr>\n",
       "<tr><td><i style='opacity: 0.6'>7</i></td><td>b&#x27;HV0003&#x27;          </td><td>b&#x27;B02764&#x27;             </td><td>b&#x27;2019-04-01 00:01:28&#x27;</td><td>b&#x27;2019-04-01 00:09:29&#x27;</td><td style=\"text-align: right;\">           234</td><td style=\"text-align: right;\">            68</td><td style=\"text-align: right;\">        0</td><td style=\"text-align: right;\">      7</td></tr>\n",
       "<tr><td><i style='opacity: 0.6'>8</i></td><td>b&#x27;HV0003&#x27;          </td><td>b&#x27;B02875&#x27;             </td><td>b&#x27;2019-04-01 00:04:51&#x27;</td><td>b&#x27;2019-04-01 00:15:10&#x27;</td><td style=\"text-align: right;\">           249</td><td style=\"text-align: right;\">           170</td><td style=\"text-align: right;\">        0</td><td style=\"text-align: right;\">      8</td></tr>\n",
       "<tr><td><i style='opacity: 0.6'>9</i></td><td>b&#x27;HV0003&#x27;          </td><td>b&#x27;B02875&#x27;             </td><td>b&#x27;2019-04-01 00:36:47&#x27;</td><td>b&#x27;2019-04-01 00:54:16&#x27;</td><td style=\"text-align: right;\">           246</td><td style=\"text-align: right;\">           248</td><td style=\"text-align: right;\">        0</td><td style=\"text-align: right;\">      9</td></tr>\n",
       "</tbody>\n",
       "</table>"
      ],
      "text/plain": [
       "  #  hvfhs_license_num    dispatching_base_num    pickup_datetime         dropoff_datetime          PULocationID    DOLocationID    SR_Flag    index\n",
       "  0  b'HV0005'            b'B02510'               b'2019-04-01 00:11:25'  b'2019-04-01 00:21:56'              52              97          0        0\n",
       "  1  b'HV0005'            b'B02510'               b'2019-04-01 00:28:57'  b'2019-04-01 00:52:24'              97             239          0        1\n",
       "  2  b'HV0005'            b'B02510'               b'2019-04-01 00:59:25'  b'2019-04-01 01:29:54'             238              61          0        2\n",
       "  3  b'HV0005'            b'B02510'               b'2019-04-01 00:53:14'  b'2019-04-01 00:57:02'             212             213          1        3\n",
       "  4  b'HV0003'            b'B02764'               b'2019-04-01 00:11:42'  b'2019-04-01 00:20:06'             165             210          1        4\n",
       "  5  b'HV0003'            b'B02764'               b'2019-04-01 00:22:47'  b'2019-04-01 00:48:45'             210             156          1        5\n",
       "  6  b'HV0003'            b'B02764'               b'2019-04-01 00:48:25'  b'2019-04-01 00:58:52'             156              23          1        6\n",
       "  7  b'HV0003'            b'B02764'               b'2019-04-01 00:01:28'  b'2019-04-01 00:09:29'             234              68          0        7\n",
       "  8  b'HV0003'            b'B02875'               b'2019-04-01 00:04:51'  b'2019-04-01 00:15:10'             249             170          0        8\n",
       "  9  b'HV0003'            b'B02875'               b'2019-04-01 00:36:47'  b'2019-04-01 00:54:16'             246             248          0        9"
      ]
     },
     "execution_count": 106,
     "metadata": {},
     "output_type": "execute_result"
    }
   ],
   "source": [
    "dsvaex.head(10)"
   ]
  },
  {
   "cell_type": "code",
   "execution_count": 107,
   "metadata": {},
   "outputs": [
    {
     "name": "stdout",
     "output_type": "stream",
     "text": [
      "CPU times: user 50.5 ms, sys: 0 ns, total: 50.5 ms\n",
      "Wall time: 49.8 ms\n"
     ]
    },
    {
     "data": {
      "text/html": [
       "<table>\n",
       "<thead>\n",
       "<tr><th>#                            </th><th>hvfhs_license_num  </th><th>dispatching_base_num  </th><th>pickup_datetime       </th><th>dropoff_datetime      </th><th style=\"text-align: right;\">  PULocationID</th><th style=\"text-align: right;\">  DOLocationID</th><th style=\"text-align: right;\">  SR_Flag</th><th style=\"text-align: right;\">  index</th></tr>\n",
       "</thead>\n",
       "<tbody>\n",
       "<tr><td><i style='opacity: 0.6'>0</i></td><td>b&#x27;HV0005&#x27;          </td><td>b&#x27;B02510&#x27;             </td><td>b&#x27;2019-04-01 00:59:25&#x27;</td><td>b&#x27;2019-04-01 01:29:54&#x27;</td><td style=\"text-align: right;\">           238</td><td style=\"text-align: right;\">            61</td><td style=\"text-align: right;\">        0</td><td style=\"text-align: right;\">      2</td></tr>\n",
       "<tr><td><i style='opacity: 0.6'>1</i></td><td>b&#x27;HV0005&#x27;          </td><td>b&#x27;B02510&#x27;             </td><td>b&#x27;2019-04-01 00:53:14&#x27;</td><td>b&#x27;2019-04-01 00:57:02&#x27;</td><td style=\"text-align: right;\">           212</td><td style=\"text-align: right;\">           213</td><td style=\"text-align: right;\">        1</td><td style=\"text-align: right;\">      3</td></tr>\n",
       "<tr><td><i style='opacity: 0.6'>2</i></td><td>b&#x27;HV0003&#x27;          </td><td>b&#x27;B02764&#x27;             </td><td>b&#x27;2019-04-01 00:22:47&#x27;</td><td>b&#x27;2019-04-01 00:48:45&#x27;</td><td style=\"text-align: right;\">           210</td><td style=\"text-align: right;\">           156</td><td style=\"text-align: right;\">        1</td><td style=\"text-align: right;\">      5</td></tr>\n",
       "<tr><td><i style='opacity: 0.6'>3</i></td><td>b&#x27;HV0003&#x27;          </td><td>b&#x27;B02764&#x27;             </td><td>b&#x27;2019-04-01 00:01:28&#x27;</td><td>b&#x27;2019-04-01 00:09:29&#x27;</td><td style=\"text-align: right;\">           234</td><td style=\"text-align: right;\">            68</td><td style=\"text-align: right;\">        0</td><td style=\"text-align: right;\">      7</td></tr>\n",
       "<tr><td><i style='opacity: 0.6'>4</i></td><td>b&#x27;HV0003&#x27;          </td><td>b&#x27;B02875&#x27;             </td><td>b&#x27;2019-04-01 00:04:51&#x27;</td><td>b&#x27;2019-04-01 00:15:10&#x27;</td><td style=\"text-align: right;\">           249</td><td style=\"text-align: right;\">           170</td><td style=\"text-align: right;\">        0</td><td style=\"text-align: right;\">      8</td></tr>\n",
       "<tr><td><i style='opacity: 0.6'>5</i></td><td>b&#x27;HV0003&#x27;          </td><td>b&#x27;B02875&#x27;             </td><td>b&#x27;2019-04-01 00:36:47&#x27;</td><td>b&#x27;2019-04-01 00:54:16&#x27;</td><td style=\"text-align: right;\">           246</td><td style=\"text-align: right;\">           248</td><td style=\"text-align: right;\">        0</td><td style=\"text-align: right;\">      9</td></tr>\n",
       "<tr><td><i style='opacity: 0.6'>6</i></td><td>b&#x27;HV0003&#x27;          </td><td>b&#x27;B02764&#x27;             </td><td>b&#x27;2019-04-01 00:20:10&#x27;</td><td>b&#x27;2019-04-01 00:36:55&#x27;</td><td style=\"text-align: right;\">           263</td><td style=\"text-align: right;\">           235</td><td style=\"text-align: right;\">        1</td><td style=\"text-align: right;\">     11</td></tr>\n",
       "<tr><td><i style='opacity: 0.6'>7</i></td><td>b&#x27;HV0003&#x27;          </td><td>b&#x27;B02887&#x27;             </td><td>b&#x27;2019-04-01 00:43:25&#x27;</td><td>b&#x27;2019-04-01 00:52:35&#x27;</td><td style=\"text-align: right;\">           224</td><td style=\"text-align: right;\">           231</td><td style=\"text-align: right;\">        0</td><td style=\"text-align: right;\">     19</td></tr>\n",
       "<tr><td><i style='opacity: 0.6'>8</i></td><td>b&#x27;HV0003&#x27;          </td><td>b&#x27;B02764&#x27;             </td><td>b&#x27;2019-04-01 00:52:27&#x27;</td><td>b&#x27;2019-04-01 01:08:06&#x27;</td><td style=\"text-align: right;\">           230</td><td style=\"text-align: right;\">            79</td><td style=\"text-align: right;\">        1</td><td style=\"text-align: right;\">     20</td></tr>\n",
       "<tr><td><i style='opacity: 0.6'>9</i></td><td>b&#x27;HV0005&#x27;          </td><td>b&#x27;B02510&#x27;             </td><td>b&#x27;2019-04-01 00:48:50&#x27;</td><td>b&#x27;2019-04-01 00:54:28&#x27;</td><td style=\"text-align: right;\">           225</td><td style=\"text-align: right;\">            17</td><td style=\"text-align: right;\">        1</td><td style=\"text-align: right;\">     24</td></tr>\n",
       "</tbody>\n",
       "</table>"
      ],
      "text/plain": [
       "  #  hvfhs_license_num    dispatching_base_num    pickup_datetime         dropoff_datetime          PULocationID    DOLocationID    SR_Flag    index\n",
       "  0  b'HV0005'            b'B02510'               b'2019-04-01 00:59:25'  b'2019-04-01 01:29:54'             238              61          0        2\n",
       "  1  b'HV0005'            b'B02510'               b'2019-04-01 00:53:14'  b'2019-04-01 00:57:02'             212             213          1        3\n",
       "  2  b'HV0003'            b'B02764'               b'2019-04-01 00:22:47'  b'2019-04-01 00:48:45'             210             156          1        5\n",
       "  3  b'HV0003'            b'B02764'               b'2019-04-01 00:01:28'  b'2019-04-01 00:09:29'             234              68          0        7\n",
       "  4  b'HV0003'            b'B02875'               b'2019-04-01 00:04:51'  b'2019-04-01 00:15:10'             249             170          0        8\n",
       "  5  b'HV0003'            b'B02875'               b'2019-04-01 00:36:47'  b'2019-04-01 00:54:16'             246             248          0        9\n",
       "  6  b'HV0003'            b'B02764'               b'2019-04-01 00:20:10'  b'2019-04-01 00:36:55'             263             235          1       11\n",
       "  7  b'HV0003'            b'B02887'               b'2019-04-01 00:43:25'  b'2019-04-01 00:52:35'             224             231          0       19\n",
       "  8  b'HV0003'            b'B02764'               b'2019-04-01 00:52:27'  b'2019-04-01 01:08:06'             230              79          1       20\n",
       "  9  b'HV0005'            b'B02510'               b'2019-04-01 00:48:50'  b'2019-04-01 00:54:28'             225              17          1       24"
      ]
     },
     "execution_count": 107,
     "metadata": {},
     "output_type": "execute_result"
    }
   ],
   "source": [
    "%time dsfiltered = dsvaex [dsvaex.PULocationID > 200]\n",
    "dsfiltered.head(10)"
   ]
  },
  {
   "cell_type": "code",
   "execution_count": 56,
   "metadata": {},
   "outputs": [
    {
     "data": {
      "text/plain": [
       "array(141.31675973)"
      ]
     },
     "execution_count": 56,
     "metadata": {},
     "output_type": "execute_result"
    }
   ],
   "source": [
    "%time dsvaex.mean(dsvaex.DOLocationID)\n"
   ]
  },
  {
   "cell_type": "markdown",
   "metadata": {},
   "source": [
    "## Distributed operations"
   ]
  },
  {
   "cell_type": "code",
   "execution_count": 185,
   "metadata": {},
   "outputs": [
    {
     "name": "stdout",
     "output_type": "stream",
     "text": [
      "CPU times: user 505 ms, sys: 119 ms, total: 625 ms\n",
      "Wall time: 3.73 s\n"
     ]
    },
    {
     "data": {
      "text/html": [
       "<table>\n",
       "<thead>\n",
       "<tr><th>#                              </th><th>PULocationID  </th><th>_count  </th></tr>\n",
       "</thead>\n",
       "<tbody>\n",
       "<tr><td><i style='opacity: 0.6'>0</i>  </td><td>52            </td><td>64942   </td></tr>\n",
       "<tr><td><i style='opacity: 0.6'>1</i>  </td><td>97            </td><td>313774  </td></tr>\n",
       "<tr><td><i style='opacity: 0.6'>2</i>  </td><td>238           </td><td>293212  </td></tr>\n",
       "<tr><td><i style='opacity: 0.6'>3</i>  </td><td>212           </td><td>104922  </td></tr>\n",
       "<tr><td><i style='opacity: 0.6'>4</i>  </td><td>165           </td><td>122372  </td></tr>\n",
       "<tr><td>...                            </td><td>...           </td><td>...     </td></tr>\n",
       "<tr><td><i style='opacity: 0.6'>258</i></td><td>264           </td><td>22      </td></tr>\n",
       "<tr><td><i style='opacity: 0.6'>259</i></td><td>110           </td><td>44      </td></tr>\n",
       "<tr><td><i style='opacity: 0.6'>260</i></td><td>2             </td><td>56      </td></tr>\n",
       "<tr><td><i style='opacity: 0.6'>261</i></td><td>199           </td><td>2       </td></tr>\n",
       "<tr><td><i style='opacity: 0.6'>262</i></td><td>105           </td><td>6       </td></tr>\n",
       "</tbody>\n",
       "</table>"
      ],
      "text/plain": [
       "#    PULocationID    _count\n",
       "0    52              64942\n",
       "1    97              313774\n",
       "2    238             293212\n",
       "3    212             104922\n",
       "4    165             122372\n",
       "...  ...             ...\n",
       "258  264             22\n",
       "259  110             44\n",
       "260  2               56\n",
       "261  199             2\n",
       "262  105             6"
      ]
     },
     "execution_count": 185,
     "metadata": {},
     "output_type": "execute_result"
    }
   ],
   "source": [
    "%time dsgrouped = dsvaex.groupby(by=dsvaex.PULocationID, agg=vaex.agg.count())\n",
    "dsgrouped\n"
   ]
  },
  {
   "cell_type": "code",
   "execution_count": 186,
   "metadata": {},
   "outputs": [
    {
     "data": {
      "text/html": [
       "<table>\n",
       "<thead>\n",
       "<tr><th>#                            </th><th style=\"text-align: right;\">  PULocationID</th><th style=\"text-align: right;\">  _count</th></tr>\n",
       "</thead>\n",
       "<tbody>\n",
       "<tr><td><i style='opacity: 0.6'>0</i></td><td style=\"text-align: right;\">            52</td><td style=\"text-align: right;\">   64942</td></tr>\n",
       "<tr><td><i style='opacity: 0.6'>1</i></td><td style=\"text-align: right;\">            97</td><td style=\"text-align: right;\">  313774</td></tr>\n",
       "</tbody>\n",
       "</table>"
      ],
      "text/plain": [
       "  #    PULocationID    _count\n",
       "  0              52     64942\n",
       "  1              97    313774"
      ]
     },
     "execution_count": 186,
     "metadata": {},
     "output_type": "execute_result"
    }
   ],
   "source": [
    "dsgrouped.head(2)\n"
   ]
  },
  {
   "cell_type": "markdown",
   "metadata": {},
   "source": [
    "## Plotting is fun (paralell computations please)"
   ]
  },
  {
   "cell_type": "code",
   "execution_count": 85,
   "metadata": {},
   "outputs": [
    {
     "data": {
      "text/plain": [
       "[<matplotlib.lines.Line2D at 0x7fba01825dd8>]"
      ]
     },
     "execution_count": 85,
     "metadata": {},
     "output_type": "execute_result"
    },
    {
     "data": {
      "image/png": "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\n",
      "text/plain": [
       "<Figure size 432x288 with 1 Axes>"
      ]
     },
     "metadata": {
      "needs_background": "light"
     },
     "output_type": "display_data"
    }
   ],
   "source": [
    "dsvaex.plot1d(dsvaex.PULocationID)\n"
   ]
  },
  {
   "cell_type": "code",
   "execution_count": 91,
   "metadata": {},
   "outputs": [
    {
     "data": {
      "text/plain": [
       "<matplotlib.image.AxesImage at 0x7fba014c0c18>"
      ]
     },
     "execution_count": 91,
     "metadata": {},
     "output_type": "execute_result"
    },
    {
     "data": {
      "image/png": "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\n",
      "text/plain": [
       "<Figure size 432x288 with 2 Axes>"
      ]
     },
     "metadata": {
      "needs_background": "light"
     },
     "output_type": "display_data"
    }
   ],
   "source": [
    "dsvaex.plot(dsvaex.DOLocationID , dsvaex.PULocationID)\n"
   ]
  },
  {
   "cell_type": "code",
   "execution_count": null,
   "metadata": {},
   "outputs": [],
   "source": []
  }
 ],
 "metadata": {
  "kernelspec": {
   "display_name": "conda_python3",
   "language": "python",
   "name": "conda_python3"
  },
  "language_info": {
   "codemirror_mode": {
    "name": "ipython",
    "version": 3
   },
   "file_extension": ".py",
   "mimetype": "text/x-python",
   "name": "python",
   "nbconvert_exporter": "python",
   "pygments_lexer": "ipython3",
   "version": "3.6.10"
  }
 },
 "nbformat": 4,
 "nbformat_minor": 4
}
