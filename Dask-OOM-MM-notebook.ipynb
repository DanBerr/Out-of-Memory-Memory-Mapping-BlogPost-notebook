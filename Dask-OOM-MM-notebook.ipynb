{
 "cells": [
  {
   "cell_type": "markdown",
   "metadata": {},
   "source": [
    "# Using Dask with Amazon SageMaker"
   ]
  },
  {
   "cell_type": "code",
   "execution_count": 1,
   "metadata": {
    "collapsed": true
   },
   "outputs": [
    {
     "name": "stdout",
     "output_type": "stream",
     "text": [
      "Requirement already satisfied: dask in /home/ec2-user/anaconda3/envs/python3/lib/python3.6/site-packages (2.14.0)\r\n"
     ]
    }
   ],
   "source": [
    "!pip install dask"
   ]
  },
  {
   "cell_type": "code",
   "execution_count": 2,
   "metadata": {},
   "outputs": [
    {
     "name": "stdout",
     "output_type": "stream",
     "text": [
      "             total       used       free     shared    buffers     cached\r\n",
      "Mem:          3.9G       1.6G       2.3G       520K        80M       446M\r\n",
      "-/+ buffers/cache:       1.1G       2.8G\r\n",
      "Swap:           0B         0B         0B\r\n",
      "Total:        3.9G       1.6G       2.3G\r\n"
     ]
    }
   ],
   "source": [
    "!free -th"
   ]
  },
  {
   "cell_type": "code",
   "execution_count": 3,
   "metadata": {},
   "outputs": [],
   "source": [
    "from dask.distributed import LocalCluster, Client\n",
    "cluster = LocalCluster()\n",
    "client = Client(cluster)\n",
    "\n"
   ]
  },
  {
   "cell_type": "code",
   "execution_count": 5,
   "metadata": {},
   "outputs": [],
   "source": [
    "import dask.dataframe as df\n"
   ]
  },
  {
   "cell_type": "code",
   "execution_count": 6,
   "metadata": {},
   "outputs": [
    {
     "name": "stdout",
     "output_type": "stream",
     "text": [
      "CPU times: user 28.7 ms, sys: 12.2 ms, total: 40.9 ms\n",
      "Wall time: 38.5 ms\n"
     ]
    }
   ],
   "source": [
    "%time dfdaskfeb = df.read_csv('./taxiapril.csv')"
   ]
  },
  {
   "cell_type": "code",
   "execution_count": 7,
   "metadata": {},
   "outputs": [
    {
     "name": "stdout",
     "output_type": "stream",
     "text": [
      "CPU times: user 70.8 ms, sys: 13.6 ms, total: 84.4 ms\n",
      "Wall time: 1.95 s\n"
     ]
    },
    {
     "data": {
      "text/html": [
       "<div>\n",
       "<style scoped>\n",
       "    .dataframe tbody tr th:only-of-type {\n",
       "        vertical-align: middle;\n",
       "    }\n",
       "\n",
       "    .dataframe tbody tr th {\n",
       "        vertical-align: top;\n",
       "    }\n",
       "\n",
       "    .dataframe thead th {\n",
       "        text-align: right;\n",
       "    }\n",
       "</style>\n",
       "<table border=\"1\" class=\"dataframe\">\n",
       "  <thead>\n",
       "    <tr style=\"text-align: right;\">\n",
       "      <th></th>\n",
       "      <th>hvfhs_license_num</th>\n",
       "      <th>dispatching_base_num</th>\n",
       "      <th>pickup_datetime</th>\n",
       "      <th>dropoff_datetime</th>\n",
       "      <th>PULocationID</th>\n",
       "      <th>DOLocationID</th>\n",
       "      <th>SR_Flag</th>\n",
       "    </tr>\n",
       "  </thead>\n",
       "  <tbody>\n",
       "    <tr>\n",
       "      <th>0</th>\n",
       "      <td>HV0005</td>\n",
       "      <td>B02510</td>\n",
       "      <td>2019-04-01 00:11:25</td>\n",
       "      <td>2019-04-01 00:21:56</td>\n",
       "      <td>52</td>\n",
       "      <td>97</td>\n",
       "      <td>NaN</td>\n",
       "    </tr>\n",
       "    <tr>\n",
       "      <th>1</th>\n",
       "      <td>HV0005</td>\n",
       "      <td>B02510</td>\n",
       "      <td>2019-04-01 00:28:57</td>\n",
       "      <td>2019-04-01 00:52:24</td>\n",
       "      <td>97</td>\n",
       "      <td>239</td>\n",
       "      <td>NaN</td>\n",
       "    </tr>\n",
       "    <tr>\n",
       "      <th>2</th>\n",
       "      <td>HV0005</td>\n",
       "      <td>B02510</td>\n",
       "      <td>2019-04-01 00:59:25</td>\n",
       "      <td>2019-04-01 01:29:54</td>\n",
       "      <td>238</td>\n",
       "      <td>61</td>\n",
       "      <td>NaN</td>\n",
       "    </tr>\n",
       "    <tr>\n",
       "      <th>3</th>\n",
       "      <td>HV0005</td>\n",
       "      <td>B02510</td>\n",
       "      <td>2019-04-01 00:53:14</td>\n",
       "      <td>2019-04-01 00:57:02</td>\n",
       "      <td>212</td>\n",
       "      <td>213</td>\n",
       "      <td>1.0</td>\n",
       "    </tr>\n",
       "    <tr>\n",
       "      <th>4</th>\n",
       "      <td>HV0003</td>\n",
       "      <td>B02764</td>\n",
       "      <td>2019-04-01 00:11:42</td>\n",
       "      <td>2019-04-01 00:20:06</td>\n",
       "      <td>165</td>\n",
       "      <td>210</td>\n",
       "      <td>1.0</td>\n",
       "    </tr>\n",
       "  </tbody>\n",
       "</table>\n",
       "</div>"
      ],
      "text/plain": [
       "  hvfhs_license_num dispatching_base_num      pickup_datetime  \\\n",
       "0            HV0005               B02510  2019-04-01 00:11:25   \n",
       "1            HV0005               B02510  2019-04-01 00:28:57   \n",
       "2            HV0005               B02510  2019-04-01 00:59:25   \n",
       "3            HV0005               B02510  2019-04-01 00:53:14   \n",
       "4            HV0003               B02764  2019-04-01 00:11:42   \n",
       "\n",
       "      dropoff_datetime  PULocationID  DOLocationID  SR_Flag  \n",
       "0  2019-04-01 00:21:56            52            97      NaN  \n",
       "1  2019-04-01 00:52:24            97           239      NaN  \n",
       "2  2019-04-01 01:29:54           238            61      NaN  \n",
       "3  2019-04-01 00:57:02           212           213      1.0  \n",
       "4  2019-04-01 00:20:06           165           210      1.0  "
      ]
     },
     "execution_count": 7,
     "metadata": {},
     "output_type": "execute_result"
    }
   ],
   "source": [
    "%time dfdaskfeb.head(5)\n"
   ]
  },
  {
   "cell_type": "code",
   "execution_count": 8,
   "metadata": {},
   "outputs": [
    {
     "name": "stdout",
     "output_type": "stream",
     "text": [
      "             total       used       free     shared    buffers     cached\r\n",
      "Mem:          3.9G       1.9G       2.0G       568K        80M       508M\r\n",
      "-/+ buffers/cache:       1.3G       2.6G\r\n",
      "Swap:           0B         0B         0B\r\n",
      "Total:        3.9G       1.9G       2.0G\r\n"
     ]
    }
   ],
   "source": [
    "!free -th"
   ]
  },
  {
   "cell_type": "code",
   "execution_count": 9,
   "metadata": {},
   "outputs": [
    {
     "name": "stdout",
     "output_type": "stream",
     "text": [
      "CPU times: user 29.6 ms, sys: 0 ns, total: 29.6 ms\n",
      "Wall time: 34.6 ms\n"
     ]
    }
   ],
   "source": [
    "%time dfdaskapril = df.read_csv('./taxifeb.csv')"
   ]
  },
  {
   "cell_type": "code",
   "execution_count": 10,
   "metadata": {},
   "outputs": [
    {
     "data": {
      "text/html": [
       "<div>\n",
       "<style scoped>\n",
       "    .dataframe tbody tr th:only-of-type {\n",
       "        vertical-align: middle;\n",
       "    }\n",
       "\n",
       "    .dataframe tbody tr th {\n",
       "        vertical-align: top;\n",
       "    }\n",
       "\n",
       "    .dataframe thead th {\n",
       "        text-align: right;\n",
       "    }\n",
       "</style>\n",
       "<table border=\"1\" class=\"dataframe\">\n",
       "  <thead>\n",
       "    <tr style=\"text-align: right;\">\n",
       "      <th></th>\n",
       "      <th>hvfhs_license_num</th>\n",
       "      <th>dispatching_base_num</th>\n",
       "      <th>pickup_datetime</th>\n",
       "      <th>dropoff_datetime</th>\n",
       "      <th>PULocationID</th>\n",
       "      <th>DOLocationID</th>\n",
       "      <th>SR_Flag</th>\n",
       "    </tr>\n",
       "  </thead>\n",
       "  <tbody>\n",
       "    <tr>\n",
       "      <th>0</th>\n",
       "      <td>HV0003</td>\n",
       "      <td>B02867</td>\n",
       "      <td>2019-02-01 00:05:18</td>\n",
       "      <td>2019-02-01 00:14:57</td>\n",
       "      <td>245</td>\n",
       "      <td>251</td>\n",
       "      <td>NaN</td>\n",
       "    </tr>\n",
       "    <tr>\n",
       "      <th>1</th>\n",
       "      <td>HV0003</td>\n",
       "      <td>B02879</td>\n",
       "      <td>2019-02-01 00:41:29</td>\n",
       "      <td>2019-02-01 00:49:39</td>\n",
       "      <td>216</td>\n",
       "      <td>197</td>\n",
       "      <td>NaN</td>\n",
       "    </tr>\n",
       "    <tr>\n",
       "      <th>2</th>\n",
       "      <td>HV0005</td>\n",
       "      <td>B02510</td>\n",
       "      <td>2019-02-01 00:51:34</td>\n",
       "      <td>2019-02-01 01:28:29</td>\n",
       "      <td>261</td>\n",
       "      <td>234</td>\n",
       "      <td>NaN</td>\n",
       "    </tr>\n",
       "    <tr>\n",
       "      <th>3</th>\n",
       "      <td>HV0005</td>\n",
       "      <td>B02510</td>\n",
       "      <td>2019-02-01 00:03:51</td>\n",
       "      <td>2019-02-01 00:07:16</td>\n",
       "      <td>87</td>\n",
       "      <td>87</td>\n",
       "      <td>NaN</td>\n",
       "    </tr>\n",
       "    <tr>\n",
       "      <th>4</th>\n",
       "      <td>HV0005</td>\n",
       "      <td>B02510</td>\n",
       "      <td>2019-02-01 00:09:44</td>\n",
       "      <td>2019-02-01 00:39:56</td>\n",
       "      <td>87</td>\n",
       "      <td>198</td>\n",
       "      <td>NaN</td>\n",
       "    </tr>\n",
       "  </tbody>\n",
       "</table>\n",
       "</div>"
      ],
      "text/plain": [
       "  hvfhs_license_num dispatching_base_num      pickup_datetime  \\\n",
       "0            HV0003               B02867  2019-02-01 00:05:18   \n",
       "1            HV0003               B02879  2019-02-01 00:41:29   \n",
       "2            HV0005               B02510  2019-02-01 00:51:34   \n",
       "3            HV0005               B02510  2019-02-01 00:03:51   \n",
       "4            HV0005               B02510  2019-02-01 00:09:44   \n",
       "\n",
       "      dropoff_datetime  PULocationID  DOLocationID  SR_Flag  \n",
       "0  2019-02-01 00:14:57           245           251      NaN  \n",
       "1  2019-02-01 00:49:39           216           197      NaN  \n",
       "2  2019-02-01 01:28:29           261           234      NaN  \n",
       "3  2019-02-01 00:07:16            87            87      NaN  \n",
       "4  2019-02-01 00:39:56            87           198      NaN  "
      ]
     },
     "execution_count": 10,
     "metadata": {},
     "output_type": "execute_result"
    }
   ],
   "source": [
    "dfdaskapril.head(5)"
   ]
  },
  {
   "cell_type": "code",
   "execution_count": 11,
   "metadata": {},
   "outputs": [
    {
     "name": "stdout",
     "output_type": "stream",
     "text": [
      "             total       used       free     shared    buffers     cached\r\n",
      "Mem:          3.9G       1.9G       1.9G       568K        80M       569M\r\n",
      "-/+ buffers/cache:       1.3G       2.5G\r\n",
      "Swap:           0B         0B         0B\r\n",
      "Total:        3.9G       1.9G       1.9G\r\n"
     ]
    }
   ],
   "source": [
    "!free -th"
   ]
  },
  {
   "cell_type": "code",
   "execution_count": 12,
   "metadata": {},
   "outputs": [
    {
     "name": "stdout",
     "output_type": "stream",
     "text": [
      "CPU times: user 28.3 ms, sys: 3.95 ms, total: 32.2 ms\n",
      "Wall time: 31.1 ms\n"
     ]
    }
   ],
   "source": [
    "%time dfjoin = df.concat([dfdaskfeb,dfdaskapril], axis=0)"
   ]
  },
  {
   "cell_type": "code",
   "execution_count": 13,
   "metadata": {},
   "outputs": [
    {
     "name": "stdout",
     "output_type": "stream",
     "text": [
      "41893869\n"
     ]
    }
   ],
   "source": [
    "dfjoin.head(5)\n",
    "print(len(dfjoin))\n"
   ]
  },
  {
   "cell_type": "code",
   "execution_count": 15,
   "metadata": {},
   "outputs": [
    {
     "name": "stdout",
     "output_type": "stream",
     "text": [
      "CPU times: user 8.63 ms, sys: 0 ns, total: 8.63 ms\n",
      "Wall time: 7.85 ms\n"
     ]
    },
    {
     "data": {
      "text/html": [
       "<div>\n",
       "<style scoped>\n",
       "    .dataframe tbody tr th:only-of-type {\n",
       "        vertical-align: middle;\n",
       "    }\n",
       "\n",
       "    .dataframe tbody tr th {\n",
       "        vertical-align: top;\n",
       "    }\n",
       "\n",
       "    .dataframe thead th {\n",
       "        text-align: right;\n",
       "    }\n",
       "</style>\n",
       "<table border=\"1\" class=\"dataframe\">\n",
       "  <thead>\n",
       "    <tr style=\"text-align: right;\">\n",
       "      <th></th>\n",
       "      <th>hvfhs_license_num</th>\n",
       "      <th>dispatching_base_num</th>\n",
       "      <th>pickup_datetime</th>\n",
       "      <th>dropoff_datetime</th>\n",
       "      <th>PULocationID</th>\n",
       "      <th>DOLocationID</th>\n",
       "      <th>SR_Flag</th>\n",
       "    </tr>\n",
       "  </thead>\n",
       "  <tbody>\n",
       "    <tr>\n",
       "      <th>0</th>\n",
       "      <td>HV0003</td>\n",
       "      <td>B02867</td>\n",
       "      <td>2019-02-01 00:05:18</td>\n",
       "      <td>2019-02-01 00:14:57</td>\n",
       "      <td>245</td>\n",
       "      <td>251</td>\n",
       "      <td>0.0</td>\n",
       "    </tr>\n",
       "    <tr>\n",
       "      <th>1</th>\n",
       "      <td>HV0003</td>\n",
       "      <td>B02879</td>\n",
       "      <td>2019-02-01 00:41:29</td>\n",
       "      <td>2019-02-01 00:49:39</td>\n",
       "      <td>216</td>\n",
       "      <td>197</td>\n",
       "      <td>0.0</td>\n",
       "    </tr>\n",
       "    <tr>\n",
       "      <th>2</th>\n",
       "      <td>HV0005</td>\n",
       "      <td>B02510</td>\n",
       "      <td>2019-02-01 00:51:34</td>\n",
       "      <td>2019-02-01 01:28:29</td>\n",
       "      <td>261</td>\n",
       "      <td>234</td>\n",
       "      <td>0.0</td>\n",
       "    </tr>\n",
       "    <tr>\n",
       "      <th>3</th>\n",
       "      <td>HV0005</td>\n",
       "      <td>B02510</td>\n",
       "      <td>2019-02-01 00:03:51</td>\n",
       "      <td>2019-02-01 00:07:16</td>\n",
       "      <td>87</td>\n",
       "      <td>87</td>\n",
       "      <td>0.0</td>\n",
       "    </tr>\n",
       "    <tr>\n",
       "      <th>4</th>\n",
       "      <td>HV0005</td>\n",
       "      <td>B02510</td>\n",
       "      <td>2019-02-01 00:09:44</td>\n",
       "      <td>2019-02-01 00:39:56</td>\n",
       "      <td>87</td>\n",
       "      <td>198</td>\n",
       "      <td>0.0</td>\n",
       "    </tr>\n",
       "  </tbody>\n",
       "</table>\n",
       "</div>"
      ],
      "text/plain": [
       "  hvfhs_license_num dispatching_base_num      pickup_datetime  \\\n",
       "0            HV0003               B02867  2019-02-01 00:05:18   \n",
       "1            HV0003               B02879  2019-02-01 00:41:29   \n",
       "2            HV0005               B02510  2019-02-01 00:51:34   \n",
       "3            HV0005               B02510  2019-02-01 00:03:51   \n",
       "4            HV0005               B02510  2019-02-01 00:09:44   \n",
       "\n",
       "      dropoff_datetime  PULocationID  DOLocationID  SR_Flag  \n",
       "0  2019-02-01 00:14:57           245           251      0.0  \n",
       "1  2019-02-01 00:49:39           216           197      0.0  \n",
       "2  2019-02-01 01:28:29           261           234      0.0  \n",
       "3  2019-02-01 00:07:16            87            87      0.0  \n",
       "4  2019-02-01 00:39:56            87           198      0.0  "
      ]
     },
     "execution_count": 15,
     "metadata": {},
     "output_type": "execute_result"
    }
   ],
   "source": [
    "%time dfclean= dfdaskapril.fillna(value=0)\n",
    "dfclean.head(5)"
   ]
  },
  {
   "cell_type": "code",
   "execution_count": 16,
   "metadata": {},
   "outputs": [
    {
     "name": "stdout",
     "output_type": "stream",
     "text": [
      "CPU times: user 733 ms, sys: 130 ms, total: 863 ms\n",
      "Wall time: 20 s\n"
     ]
    },
    {
     "data": {
      "text/html": [
       "<div>\n",
       "<style scoped>\n",
       "    .dataframe tbody tr th:only-of-type {\n",
       "        vertical-align: middle;\n",
       "    }\n",
       "\n",
       "    .dataframe tbody tr th {\n",
       "        vertical-align: top;\n",
       "    }\n",
       "\n",
       "    .dataframe thead th {\n",
       "        text-align: right;\n",
       "    }\n",
       "</style>\n",
       "<table border=\"1\" class=\"dataframe\">\n",
       "  <thead>\n",
       "    <tr style=\"text-align: right;\">\n",
       "      <th></th>\n",
       "      <th>hvfhs_license_num</th>\n",
       "      <th>dispatching_base_num</th>\n",
       "      <th>pickup_datetime</th>\n",
       "      <th>dropoff_datetime</th>\n",
       "      <th>DOLocationID</th>\n",
       "      <th>SR_Flag</th>\n",
       "    </tr>\n",
       "    <tr>\n",
       "      <th>PULocationID</th>\n",
       "      <th></th>\n",
       "      <th></th>\n",
       "      <th></th>\n",
       "      <th></th>\n",
       "      <th></th>\n",
       "      <th></th>\n",
       "    </tr>\n",
       "  </thead>\n",
       "  <tbody>\n",
       "    <tr>\n",
       "      <th>1</th>\n",
       "      <td>1314</td>\n",
       "      <td>1314</td>\n",
       "      <td>1314</td>\n",
       "      <td>1314</td>\n",
       "      <td>1314</td>\n",
       "      <td>1314</td>\n",
       "    </tr>\n",
       "    <tr>\n",
       "      <th>2</th>\n",
       "      <td>13</td>\n",
       "      <td>13</td>\n",
       "      <td>13</td>\n",
       "      <td>13</td>\n",
       "      <td>13</td>\n",
       "      <td>13</td>\n",
       "    </tr>\n",
       "    <tr>\n",
       "      <th>3</th>\n",
       "      <td>33923</td>\n",
       "      <td>33923</td>\n",
       "      <td>33923</td>\n",
       "      <td>33923</td>\n",
       "      <td>33923</td>\n",
       "      <td>33923</td>\n",
       "    </tr>\n",
       "    <tr>\n",
       "      <th>4</th>\n",
       "      <td>94427</td>\n",
       "      <td>94427</td>\n",
       "      <td>94427</td>\n",
       "      <td>94427</td>\n",
       "      <td>94427</td>\n",
       "      <td>94427</td>\n",
       "    </tr>\n",
       "    <tr>\n",
       "      <th>5</th>\n",
       "      <td>3955</td>\n",
       "      <td>3955</td>\n",
       "      <td>3955</td>\n",
       "      <td>3955</td>\n",
       "      <td>3955</td>\n",
       "      <td>3955</td>\n",
       "    </tr>\n",
       "    <tr>\n",
       "      <th>...</th>\n",
       "      <td>...</td>\n",
       "      <td>...</td>\n",
       "      <td>...</td>\n",
       "      <td>...</td>\n",
       "      <td>...</td>\n",
       "      <td>...</td>\n",
       "    </tr>\n",
       "    <tr>\n",
       "      <th>265</th>\n",
       "      <td>1278</td>\n",
       "      <td>1278</td>\n",
       "      <td>1278</td>\n",
       "      <td>1278</td>\n",
       "      <td>1278</td>\n",
       "      <td>1278</td>\n",
       "    </tr>\n",
       "    <tr>\n",
       "      <th>110</th>\n",
       "      <td>12</td>\n",
       "      <td>12</td>\n",
       "      <td>12</td>\n",
       "      <td>12</td>\n",
       "      <td>12</td>\n",
       "      <td>12</td>\n",
       "    </tr>\n",
       "    <tr>\n",
       "      <th>264</th>\n",
       "      <td>14</td>\n",
       "      <td>14</td>\n",
       "      <td>14</td>\n",
       "      <td>14</td>\n",
       "      <td>14</td>\n",
       "      <td>14</td>\n",
       "    </tr>\n",
       "    <tr>\n",
       "      <th>105</th>\n",
       "      <td>29</td>\n",
       "      <td>29</td>\n",
       "      <td>29</td>\n",
       "      <td>29</td>\n",
       "      <td>29</td>\n",
       "      <td>29</td>\n",
       "    </tr>\n",
       "    <tr>\n",
       "      <th>199</th>\n",
       "      <td>2</td>\n",
       "      <td>2</td>\n",
       "      <td>2</td>\n",
       "      <td>2</td>\n",
       "      <td>2</td>\n",
       "      <td>2</td>\n",
       "    </tr>\n",
       "  </tbody>\n",
       "</table>\n",
       "<p>263 rows × 6 columns</p>\n",
       "</div>"
      ],
      "text/plain": [
       "              hvfhs_license_num  dispatching_base_num  pickup_datetime  \\\n",
       "PULocationID                                                             \n",
       "1                          1314                  1314             1314   \n",
       "2                            13                    13               13   \n",
       "3                         33923                 33923            33923   \n",
       "4                         94427                 94427            94427   \n",
       "5                          3955                  3955             3955   \n",
       "...                         ...                   ...              ...   \n",
       "265                        1278                  1278             1278   \n",
       "110                          12                    12               12   \n",
       "264                          14                    14               14   \n",
       "105                          29                    29               29   \n",
       "199                           2                     2                2   \n",
       "\n",
       "              dropoff_datetime  DOLocationID  SR_Flag  \n",
       "PULocationID                                           \n",
       "1                         1314          1314     1314  \n",
       "2                           13            13       13  \n",
       "3                        33923         33923    33923  \n",
       "4                        94427         94427    94427  \n",
       "5                         3955          3955     3955  \n",
       "...                        ...           ...      ...  \n",
       "265                       1278          1278     1278  \n",
       "110                         12            12       12  \n",
       "264                         14            14       14  \n",
       "105                         29            29       29  \n",
       "199                          2             2        2  \n",
       "\n",
       "[263 rows x 6 columns]"
      ]
     },
     "execution_count": 16,
     "metadata": {},
     "output_type": "execute_result"
    }
   ],
   "source": [
    "%time dfclean.groupby('PULocationID').count().compute()"
   ]
  },
  {
   "cell_type": "code",
   "execution_count": null,
   "metadata": {},
   "outputs": [],
   "source": []
  }
 ],
 "metadata": {
  "kernelspec": {
   "display_name": "conda_python3",
   "language": "python",
   "name": "conda_python3"
  },
  "language_info": {
   "codemirror_mode": {
    "name": "ipython",
    "version": 3
   },
   "file_extension": ".py",
   "mimetype": "text/x-python",
   "name": "python",
   "nbconvert_exporter": "python",
   "pygments_lexer": "ipython3",
   "version": "3.6.10"
  }
 },
 "nbformat": 4,
 "nbformat_minor": 4
}
